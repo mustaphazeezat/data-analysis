{
 "cells": [
  {
   "cell_type": "code",
   "execution_count": 1,
   "id": "912431e3-8449-4f4b-a7b5-4c618891492c",
   "metadata": {},
   "outputs": [],
   "source": [
    "def return_even(number_array):\n",
    "    result_list = []\n",
    "    for number in number_array:\n",
    "        if number % 2 == 0:\n",
    "            result_list.append(number)\n",
    "    return result_list"
   ]
  },
  {
   "cell_type": "code",
   "execution_count": 2,
   "id": "a7fd642c-e297-4155-9730-09f24639f397",
   "metadata": {},
   "outputs": [
    {
     "data": {
      "text/plain": [
       "[2, 4, 6, 34, 56]"
      ]
     },
     "execution_count": 2,
     "metadata": {},
     "output_type": "execute_result"
    }
   ],
   "source": [
    "array = [2,4, 5,6,7,34,23,33,11,45,56]\n",
    "return_even(array)"
   ]
  },
  {
   "cell_type": "code",
   "execution_count": 3,
   "id": "82d38a90-20b9-4d16-8cde-3bbeb736d550",
   "metadata": {},
   "outputs": [
    {
     "name": "stdout",
     "output_type": "stream",
     "text": [
      "Hello Azi!\n"
     ]
    }
   ],
   "source": [
    "def say_hello(name):\n",
    "    print('Hello {}!'.format(name))\n",
    "    \n",
    "say_hello(\"Azi\")"
   ]
  },
  {
   "cell_type": "code",
   "execution_count": 4,
   "id": "936e71b3-2565-4aa6-af05-6aaefeb56f43",
   "metadata": {},
   "outputs": [],
   "source": [
    "def trip_cost(flight, hotel, car):\n",
    "    total_hotel_week = hotel * 7\n",
    "    cost_total = flight + total_hotel_week + car\n",
    "    return cost_total"
   ]
  },
  {
   "cell_type": "markdown",
   "id": "2540f4c4-49de-43f3-a1b2-f7fc1bef1a26",
   "metadata": {},
   "source": [
    "Total cost per week for different cities for one week trip\n"
   ]
  },
  {
   "cell_type": "code",
   "execution_count": 6,
   "id": "87d4019c-0fcd-4def-9ee2-79ab193dd872",
   "metadata": {},
   "outputs": [
    {
     "data": {
      "text/plain": [
       "(540, 580, 555, 590)"
      ]
     },
     "execution_count": 6,
     "metadata": {},
     "output_type": "execute_result"
    }
   ],
   "source": [
    "paris1 = trip_cost(200, 20,200)\n",
    "london1 = trip_cost(250, 30,120)\n",
    "dubai1 = trip_cost(370, 15,80)\n",
    "mumbai1 = trip_cost(450, 10,70)\n",
    "\n",
    "paris1, london1, dubai1, mumbai1"
   ]
  },
  {
   "cell_type": "code",
   "execution_count": 13,
   "id": "ec29f740-6291-49db-a06e-fed07f2d188d",
   "metadata": {},
   "outputs": [],
   "source": [
    "import math\n",
    "def trip_cost(flight, hotel, car, duration):\n",
    "    total_hotel_week = hotel * duration\n",
    "    car_duration = 1 \n",
    "    if duration / 7 > 1:\n",
    "        car_duration = math.ceil(duration / 7)\n",
    "    else:\n",
    "        car_duration = 1\n",
    "    cost_total = flight + total_hotel_week + (car * car_duration)\n",
    "    return cost_total"
   ]
  },
  {
   "cell_type": "code",
   "execution_count": 14,
   "id": "e0ad0caf-9e62-455e-9268-9568bc434d63",
   "metadata": {},
   "outputs": [],
   "source": [
    "paris_4days = trip_cost(200, 20,200, 4)\n",
    "paris_10days = trip_cost(200, 20,200, 10)\n",
    "paris_14days = trip_cost(200, 20,200, 14)\n",
    "\n",
    "london_4days = trip_cost(250, 30,120, 4)\n",
    "london_10days = trip_cost(250, 30,120, 10)\n",
    "london_14days = trip_cost(250, 30,120, 14)\n",
    "\n",
    "dubai_4days = trip_cost(370, 15,80,4)\n",
    "dubai_10days = trip_cost(370, 15,80,10)\n",
    "dubai_14days = trip_cost(370, 15,80,14)\n",
    "\n",
    "mumbai_4days = trip_cost(450, 10,70,4)\n",
    "mumbai_10days = trip_cost(450, 10,70,10)\n",
    "mumbai_14days = trip_cost(450, 10,70,14)"
   ]
  },
  {
   "cell_type": "code",
   "execution_count": 15,
   "id": "86174a57-baf5-4f66-a1d3-7cdd0cdd424a",
   "metadata": {},
   "outputs": [
    {
     "data": {
      "text/plain": [
       "(480, 800, 880)"
      ]
     },
     "execution_count": 15,
     "metadata": {},
     "output_type": "execute_result"
    }
   ],
   "source": [
    "paris_4days, paris_10days, paris_14days"
   ]
  },
  {
   "cell_type": "code",
   "execution_count": 16,
   "id": "aa7d714e-5f80-4dbc-9388-805ab22d53aa",
   "metadata": {},
   "outputs": [
    {
     "data": {
      "text/plain": [
       "(490, 790, 910)"
      ]
     },
     "execution_count": 16,
     "metadata": {},
     "output_type": "execute_result"
    }
   ],
   "source": [
    "london_4days,london_10days,london_14days"
   ]
  },
  {
   "cell_type": "code",
   "execution_count": 17,
   "id": "b9d2f179-b5f3-4925-8337-283ab7f32c0e",
   "metadata": {},
   "outputs": [
    {
     "data": {
      "text/plain": [
       "(510, 680, 740)"
      ]
     },
     "execution_count": 17,
     "metadata": {},
     "output_type": "execute_result"
    }
   ],
   "source": [
    "dubai_4days,dubai_10days,dubai_14days"
   ]
  },
  {
   "cell_type": "code",
   "execution_count": 18,
   "id": "17e3a933-bc65-4b1f-9f77-daab14d43d74",
   "metadata": {},
   "outputs": [
    {
     "data": {
      "text/plain": [
       "(560, 690, 730)"
      ]
     },
     "execution_count": 18,
     "metadata": {},
     "output_type": "execute_result"
    }
   ],
   "source": [
    "mumbai_4days,mumbai_10days,mumbai_14days"
   ]
  },
  {
   "cell_type": "markdown",
   "id": "5bd5d82b-53ba-4df8-a98a-dc93f0a7175f",
   "metadata": {},
   "source": [
    "# Based on a budget of $1,000\n",
    "\n",
    "If you want to maximize the duration of your trip  *MUMBAI* is your destination\n",
    "\n",
    "If you want to minimize the duration of your trip  *PARIS* is your destination\n"
   ]
  },
  {
   "cell_type": "markdown",
   "id": "25b6485e-e912-4560-be11-2c384e26df45",
   "metadata": {},
   "source": [
    "# Based on a budget of $600\n",
    "\n",
    "If you want to maximize the duration of your trip  *PARIS* is your destination\n",
    "\n",
    "If you want to minimize the duration of your trip  *PARIS* is your destination\n"
   ]
  },
  {
   "cell_type": "markdown",
   "id": "d0f4d13a-c217-4763-bf4a-578bf9fecd1c",
   "metadata": {},
   "source": [
    "# Based on a budget of $1500 or $2,000\n",
    "\n",
    "If you want to maximize the duration of your trip  *MUMBAI* is your destination\n",
    "\n",
    "If you want to minimize the duration of your trip  *PARIS* is your destination"
   ]
  },
  {
   "cell_type": "code",
   "execution_count": null,
   "id": "4353f990-90f2-44be-8fd1-59c5cc9ad274",
   "metadata": {},
   "outputs": [],
   "source": []
  }
 ],
 "metadata": {
  "kernelspec": {
   "display_name": "Python 3",
   "language": "python",
   "name": "python3"
  },
  "language_info": {
   "codemirror_mode": {
    "name": "ipython",
    "version": 3
   },
   "file_extension": ".py",
   "mimetype": "text/x-python",
   "name": "python",
   "nbconvert_exporter": "python",
   "pygments_lexer": "ipython3",
   "version": "3.9.5"
  }
 },
 "nbformat": 4,
 "nbformat_minor": 5
}
